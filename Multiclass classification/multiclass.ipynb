{
 "cells": [
  {
   "cell_type": "markdown",
   "metadata": {},
   "source": [
    "## MULTICLASS CLASSIFICATION "
   ]
  },
  {
   "cell_type": "code",
   "execution_count": 1,
   "metadata": {},
   "outputs": [],
   "source": [
    "from warnings import filterwarnings\n",
    "filterwarnings('ignore')"
   ]
  },
  {
   "cell_type": "markdown",
   "metadata": {},
   "source": [
    "### CREATE MULTICLASSS CLASSIFICATION DATASET"
   ]
  },
  {
   "cell_type": "code",
   "execution_count": 2,
   "metadata": {},
   "outputs": [],
   "source": [
    "from sklearn.datasets import make_classification"
   ]
  },
  {
   "cell_type": "code",
   "execution_count": 3,
   "metadata": {},
   "outputs": [],
   "source": [
    "X,Y= make_classification(n_samples=6000,n_features=30,n_informative=15,n_classes=3,random_state=42)"
   ]
  },
  {
   "cell_type": "code",
   "execution_count": 4,
   "metadata": {},
   "outputs": [
    {
     "data": {
      "text/plain": [
       "array([[-1.44143883,  0.99759432,  0.64881894, ...,  0.26075709,\n",
       "        -2.4917032 , -0.52457062],\n",
       "       [-5.14274116,  2.44379509,  0.59681357, ..., -0.67343933,\n",
       "         2.13880873, -1.34828698],\n",
       "       [ 0.65562953, -1.84153079,  0.80405201, ..., -1.45272723,\n",
       "        -3.46992694,  1.12992925],\n",
       "       ...,\n",
       "       [ 4.12653393, -4.34701772, -0.2590811 , ..., -0.28741425,\n",
       "         7.28922344, -1.18100918],\n",
       "       [-0.71009863,  3.94052935,  1.83897001, ...,  3.29290311,\n",
       "         6.91505595,  0.80226731],\n",
       "       [ 1.24909105,  3.92319056, -0.05696048, ..., -2.61261051,\n",
       "        -3.21501144, -0.04845804]])"
      ]
     },
     "execution_count": 4,
     "metadata": {},
     "output_type": "execute_result"
    }
   ],
   "source": [
    "X"
   ]
  },
  {
   "cell_type": "code",
   "execution_count": 5,
   "metadata": {},
   "outputs": [
    {
     "data": {
      "text/plain": [
       "array([2, 2, 0, ..., 1, 0, 2])"
      ]
     },
     "execution_count": 5,
     "metadata": {},
     "output_type": "execute_result"
    }
   ],
   "source": [
    "Y"
   ]
  },
  {
   "cell_type": "markdown",
   "metadata": {},
   "source": [
    "### PREPROCESSING ON Y"
   ]
  },
  {
   "cell_type": "code",
   "execution_count": 6,
   "metadata": {},
   "outputs": [
    {
     "name": "stdout",
     "output_type": "stream",
     "text": [
      "WARNING:tensorflow:From f:\\DS\\Deep learning\\repository\\venv\\Lib\\site-packages\\keras\\src\\losses.py:2976: The name tf.losses.sparse_softmax_cross_entropy is deprecated. Please use tf.compat.v1.losses.sparse_softmax_cross_entropy instead.\n",
      "\n"
     ]
    }
   ],
   "source": [
    "from keras.utils import to_categorical"
   ]
  },
  {
   "cell_type": "code",
   "execution_count": 7,
   "metadata": {},
   "outputs": [
    {
     "data": {
      "text/plain": [
       "array([[0., 0., 1.],\n",
       "       [0., 0., 1.],\n",
       "       [1., 0., 0.],\n",
       "       ...,\n",
       "       [0., 1., 0.],\n",
       "       [1., 0., 0.],\n",
       "       [0., 0., 1.]], dtype=float32)"
      ]
     },
     "execution_count": 7,
     "metadata": {},
     "output_type": "execute_result"
    }
   ],
   "source": [
    "y_cat=to_categorical(Y)\n",
    "y_cat"
   ]
  },
  {
   "cell_type": "code",
   "execution_count": 8,
   "metadata": {},
   "outputs": [],
   "source": [
    "import numpy as np"
   ]
  },
  {
   "cell_type": "code",
   "execution_count": 9,
   "metadata": {},
   "outputs": [
    {
     "data": {
      "text/plain": [
       "array([0, 1, 2])"
      ]
     },
     "execution_count": 9,
     "metadata": {},
     "output_type": "execute_result"
    }
   ],
   "source": [
    "np.unique(Y)"
   ]
  },
  {
   "cell_type": "markdown",
   "metadata": {},
   "source": [
    "### CREATE DATAFRAME FOR X AND Y"
   ]
  },
  {
   "cell_type": "code",
   "execution_count": 10,
   "metadata": {},
   "outputs": [
    {
     "data": {
      "text/plain": [
       "['x1',\n",
       " 'x2',\n",
       " 'x3',\n",
       " 'x4',\n",
       " 'x5',\n",
       " 'x6',\n",
       " 'x7',\n",
       " 'x8',\n",
       " 'x9',\n",
       " 'x10',\n",
       " 'x11',\n",
       " 'x12',\n",
       " 'x13',\n",
       " 'x14',\n",
       " 'x15',\n",
       " 'x16',\n",
       " 'x17',\n",
       " 'x18',\n",
       " 'x19',\n",
       " 'x20',\n",
       " 'x21',\n",
       " 'x22',\n",
       " 'x23',\n",
       " 'x24',\n",
       " 'x25',\n",
       " 'x26',\n",
       " 'x27',\n",
       " 'x28',\n",
       " 'x29',\n",
       " 'x30']"
      ]
     },
     "execution_count": 10,
     "metadata": {},
     "output_type": "execute_result"
    }
   ],
   "source": [
    "cols=[f'x{i+1}'for i in range(30)]\n",
    "cols"
   ]
  },
  {
   "cell_type": "code",
   "execution_count": 11,
   "metadata": {},
   "outputs": [],
   "source": [
    "import pandas as pd"
   ]
  },
  {
   "cell_type": "code",
   "execution_count": 12,
   "metadata": {},
   "outputs": [
    {
     "data": {
      "text/html": [
       "<div>\n",
       "<style scoped>\n",
       "    .dataframe tbody tr th:only-of-type {\n",
       "        vertical-align: middle;\n",
       "    }\n",
       "\n",
       "    .dataframe tbody tr th {\n",
       "        vertical-align: top;\n",
       "    }\n",
       "\n",
       "    .dataframe thead th {\n",
       "        text-align: right;\n",
       "    }\n",
       "</style>\n",
       "<table border=\"1\" class=\"dataframe\">\n",
       "  <thead>\n",
       "    <tr style=\"text-align: right;\">\n",
       "      <th></th>\n",
       "      <th>x1</th>\n",
       "      <th>x2</th>\n",
       "      <th>x3</th>\n",
       "      <th>x4</th>\n",
       "      <th>x5</th>\n",
       "      <th>x6</th>\n",
       "      <th>x7</th>\n",
       "      <th>x8</th>\n",
       "      <th>x9</th>\n",
       "      <th>x10</th>\n",
       "      <th>...</th>\n",
       "      <th>x21</th>\n",
       "      <th>x22</th>\n",
       "      <th>x23</th>\n",
       "      <th>x24</th>\n",
       "      <th>x25</th>\n",
       "      <th>x26</th>\n",
       "      <th>x27</th>\n",
       "      <th>x28</th>\n",
       "      <th>x29</th>\n",
       "      <th>x30</th>\n",
       "    </tr>\n",
       "  </thead>\n",
       "  <tbody>\n",
       "    <tr>\n",
       "      <th>0</th>\n",
       "      <td>-1.441439</td>\n",
       "      <td>0.997594</td>\n",
       "      <td>0.648819</td>\n",
       "      <td>-0.939605</td>\n",
       "      <td>1.757397</td>\n",
       "      <td>0.578914</td>\n",
       "      <td>2.427303</td>\n",
       "      <td>-2.051151</td>\n",
       "      <td>2.229941</td>\n",
       "      <td>4.161986</td>\n",
       "      <td>...</td>\n",
       "      <td>-1.479880</td>\n",
       "      <td>-0.348015</td>\n",
       "      <td>-0.607153</td>\n",
       "      <td>-1.081817</td>\n",
       "      <td>-1.993413</td>\n",
       "      <td>1.533084</td>\n",
       "      <td>-1.496706</td>\n",
       "      <td>0.260757</td>\n",
       "      <td>-2.491703</td>\n",
       "      <td>-0.524571</td>\n",
       "    </tr>\n",
       "    <tr>\n",
       "      <th>1</th>\n",
       "      <td>-5.142741</td>\n",
       "      <td>2.443795</td>\n",
       "      <td>0.596814</td>\n",
       "      <td>-5.863056</td>\n",
       "      <td>1.387833</td>\n",
       "      <td>0.481951</td>\n",
       "      <td>4.083274</td>\n",
       "      <td>-0.973058</td>\n",
       "      <td>0.552966</td>\n",
       "      <td>2.620579</td>\n",
       "      <td>...</td>\n",
       "      <td>-0.743816</td>\n",
       "      <td>-0.382961</td>\n",
       "      <td>-0.274725</td>\n",
       "      <td>-0.832032</td>\n",
       "      <td>-1.148192</td>\n",
       "      <td>-0.926654</td>\n",
       "      <td>0.970663</td>\n",
       "      <td>-0.673439</td>\n",
       "      <td>2.138809</td>\n",
       "      <td>-1.348287</td>\n",
       "    </tr>\n",
       "    <tr>\n",
       "      <th>2</th>\n",
       "      <td>0.655630</td>\n",
       "      <td>-1.841531</td>\n",
       "      <td>0.804052</td>\n",
       "      <td>2.357834</td>\n",
       "      <td>-4.326275</td>\n",
       "      <td>-0.973050</td>\n",
       "      <td>-4.126278</td>\n",
       "      <td>-6.036214</td>\n",
       "      <td>-3.200378</td>\n",
       "      <td>1.758776</td>\n",
       "      <td>...</td>\n",
       "      <td>0.240042</td>\n",
       "      <td>-1.137683</td>\n",
       "      <td>-0.927894</td>\n",
       "      <td>0.697630</td>\n",
       "      <td>0.631764</td>\n",
       "      <td>0.240156</td>\n",
       "      <td>0.139782</td>\n",
       "      <td>-1.452727</td>\n",
       "      <td>-3.469927</td>\n",
       "      <td>1.129929</td>\n",
       "    </tr>\n",
       "    <tr>\n",
       "      <th>3</th>\n",
       "      <td>-1.598327</td>\n",
       "      <td>1.024581</td>\n",
       "      <td>0.237928</td>\n",
       "      <td>1.391549</td>\n",
       "      <td>-0.488321</td>\n",
       "      <td>-1.089719</td>\n",
       "      <td>-3.627360</td>\n",
       "      <td>0.757025</td>\n",
       "      <td>-0.750550</td>\n",
       "      <td>1.952786</td>\n",
       "      <td>...</td>\n",
       "      <td>1.769143</td>\n",
       "      <td>0.310551</td>\n",
       "      <td>1.196544</td>\n",
       "      <td>1.108069</td>\n",
       "      <td>0.824942</td>\n",
       "      <td>0.480005</td>\n",
       "      <td>1.255185</td>\n",
       "      <td>-1.671230</td>\n",
       "      <td>3.642342</td>\n",
       "      <td>-1.862065</td>\n",
       "    </tr>\n",
       "    <tr>\n",
       "      <th>4</th>\n",
       "      <td>-1.079465</td>\n",
       "      <td>-0.613138</td>\n",
       "      <td>-2.654921</td>\n",
       "      <td>1.533515</td>\n",
       "      <td>1.009928</td>\n",
       "      <td>-0.910633</td>\n",
       "      <td>-0.973801</td>\n",
       "      <td>-1.726216</td>\n",
       "      <td>-2.431381</td>\n",
       "      <td>1.305569</td>\n",
       "      <td>...</td>\n",
       "      <td>0.724812</td>\n",
       "      <td>1.708111</td>\n",
       "      <td>-0.302242</td>\n",
       "      <td>0.858970</td>\n",
       "      <td>0.878317</td>\n",
       "      <td>-0.369408</td>\n",
       "      <td>0.278626</td>\n",
       "      <td>-2.291166</td>\n",
       "      <td>-0.044003</td>\n",
       "      <td>0.627598</td>\n",
       "    </tr>\n",
       "    <tr>\n",
       "      <th>...</th>\n",
       "      <td>...</td>\n",
       "      <td>...</td>\n",
       "      <td>...</td>\n",
       "      <td>...</td>\n",
       "      <td>...</td>\n",
       "      <td>...</td>\n",
       "      <td>...</td>\n",
       "      <td>...</td>\n",
       "      <td>...</td>\n",
       "      <td>...</td>\n",
       "      <td>...</td>\n",
       "      <td>...</td>\n",
       "      <td>...</td>\n",
       "      <td>...</td>\n",
       "      <td>...</td>\n",
       "      <td>...</td>\n",
       "      <td>...</td>\n",
       "      <td>...</td>\n",
       "      <td>...</td>\n",
       "      <td>...</td>\n",
       "      <td>...</td>\n",
       "    </tr>\n",
       "    <tr>\n",
       "      <th>5995</th>\n",
       "      <td>-1.352297</td>\n",
       "      <td>1.308812</td>\n",
       "      <td>-0.292216</td>\n",
       "      <td>-4.360619</td>\n",
       "      <td>3.219576</td>\n",
       "      <td>-1.414710</td>\n",
       "      <td>1.659117</td>\n",
       "      <td>-0.817933</td>\n",
       "      <td>-1.303638</td>\n",
       "      <td>1.508209</td>\n",
       "      <td>...</td>\n",
       "      <td>-0.443174</td>\n",
       "      <td>-0.311552</td>\n",
       "      <td>0.573735</td>\n",
       "      <td>-1.125316</td>\n",
       "      <td>-0.464874</td>\n",
       "      <td>0.848691</td>\n",
       "      <td>-0.583535</td>\n",
       "      <td>-1.062656</td>\n",
       "      <td>-1.964248</td>\n",
       "      <td>0.134250</td>\n",
       "    </tr>\n",
       "    <tr>\n",
       "      <th>5996</th>\n",
       "      <td>-0.565883</td>\n",
       "      <td>0.774911</td>\n",
       "      <td>1.784169</td>\n",
       "      <td>0.707276</td>\n",
       "      <td>-0.433518</td>\n",
       "      <td>0.765008</td>\n",
       "      <td>1.453466</td>\n",
       "      <td>3.011684</td>\n",
       "      <td>-1.283930</td>\n",
       "      <td>-2.857633</td>\n",
       "      <td>...</td>\n",
       "      <td>0.876575</td>\n",
       "      <td>-0.286531</td>\n",
       "      <td>-0.634010</td>\n",
       "      <td>0.073769</td>\n",
       "      <td>2.967743</td>\n",
       "      <td>-1.948160</td>\n",
       "      <td>1.763242</td>\n",
       "      <td>2.833520</td>\n",
       "      <td>3.718549</td>\n",
       "      <td>0.543506</td>\n",
       "    </tr>\n",
       "    <tr>\n",
       "      <th>5997</th>\n",
       "      <td>4.126534</td>\n",
       "      <td>-4.347018</td>\n",
       "      <td>-0.259081</td>\n",
       "      <td>3.846398</td>\n",
       "      <td>4.249316</td>\n",
       "      <td>-1.771207</td>\n",
       "      <td>4.493676</td>\n",
       "      <td>1.056368</td>\n",
       "      <td>0.960528</td>\n",
       "      <td>0.478889</td>\n",
       "      <td>...</td>\n",
       "      <td>1.885957</td>\n",
       "      <td>-0.175634</td>\n",
       "      <td>1.035233</td>\n",
       "      <td>0.932677</td>\n",
       "      <td>1.694383</td>\n",
       "      <td>0.749621</td>\n",
       "      <td>-0.364088</td>\n",
       "      <td>-0.287414</td>\n",
       "      <td>7.289223</td>\n",
       "      <td>-1.181009</td>\n",
       "    </tr>\n",
       "    <tr>\n",
       "      <th>5998</th>\n",
       "      <td>-0.710099</td>\n",
       "      <td>3.940529</td>\n",
       "      <td>1.838970</td>\n",
       "      <td>2.662065</td>\n",
       "      <td>-0.479034</td>\n",
       "      <td>-0.255752</td>\n",
       "      <td>4.255773</td>\n",
       "      <td>-0.028932</td>\n",
       "      <td>-1.796933</td>\n",
       "      <td>-0.012895</td>\n",
       "      <td>...</td>\n",
       "      <td>0.834684</td>\n",
       "      <td>-2.085513</td>\n",
       "      <td>-1.620368</td>\n",
       "      <td>-0.560711</td>\n",
       "      <td>1.824532</td>\n",
       "      <td>1.029431</td>\n",
       "      <td>-2.108498</td>\n",
       "      <td>3.292903</td>\n",
       "      <td>6.915056</td>\n",
       "      <td>0.802267</td>\n",
       "    </tr>\n",
       "    <tr>\n",
       "      <th>5999</th>\n",
       "      <td>1.249091</td>\n",
       "      <td>3.923191</td>\n",
       "      <td>-0.056960</td>\n",
       "      <td>0.753219</td>\n",
       "      <td>-2.461334</td>\n",
       "      <td>1.136814</td>\n",
       "      <td>-0.157204</td>\n",
       "      <td>-0.550483</td>\n",
       "      <td>-4.618029</td>\n",
       "      <td>-1.426488</td>\n",
       "      <td>...</td>\n",
       "      <td>-0.773508</td>\n",
       "      <td>-1.684193</td>\n",
       "      <td>0.836616</td>\n",
       "      <td>0.139797</td>\n",
       "      <td>-1.467997</td>\n",
       "      <td>1.362739</td>\n",
       "      <td>-0.726354</td>\n",
       "      <td>-2.612611</td>\n",
       "      <td>-3.215011</td>\n",
       "      <td>-0.048458</td>\n",
       "    </tr>\n",
       "  </tbody>\n",
       "</table>\n",
       "<p>6000 rows × 30 columns</p>\n",
       "</div>"
      ],
      "text/plain": [
       "            x1        x2        x3        x4        x5        x6        x7  \\\n",
       "0    -1.441439  0.997594  0.648819 -0.939605  1.757397  0.578914  2.427303   \n",
       "1    -5.142741  2.443795  0.596814 -5.863056  1.387833  0.481951  4.083274   \n",
       "2     0.655630 -1.841531  0.804052  2.357834 -4.326275 -0.973050 -4.126278   \n",
       "3    -1.598327  1.024581  0.237928  1.391549 -0.488321 -1.089719 -3.627360   \n",
       "4    -1.079465 -0.613138 -2.654921  1.533515  1.009928 -0.910633 -0.973801   \n",
       "...        ...       ...       ...       ...       ...       ...       ...   \n",
       "5995 -1.352297  1.308812 -0.292216 -4.360619  3.219576 -1.414710  1.659117   \n",
       "5996 -0.565883  0.774911  1.784169  0.707276 -0.433518  0.765008  1.453466   \n",
       "5997  4.126534 -4.347018 -0.259081  3.846398  4.249316 -1.771207  4.493676   \n",
       "5998 -0.710099  3.940529  1.838970  2.662065 -0.479034 -0.255752  4.255773   \n",
       "5999  1.249091  3.923191 -0.056960  0.753219 -2.461334  1.136814 -0.157204   \n",
       "\n",
       "            x8        x9       x10  ...       x21       x22       x23  \\\n",
       "0    -2.051151  2.229941  4.161986  ... -1.479880 -0.348015 -0.607153   \n",
       "1    -0.973058  0.552966  2.620579  ... -0.743816 -0.382961 -0.274725   \n",
       "2    -6.036214 -3.200378  1.758776  ...  0.240042 -1.137683 -0.927894   \n",
       "3     0.757025 -0.750550  1.952786  ...  1.769143  0.310551  1.196544   \n",
       "4    -1.726216 -2.431381  1.305569  ...  0.724812  1.708111 -0.302242   \n",
       "...        ...       ...       ...  ...       ...       ...       ...   \n",
       "5995 -0.817933 -1.303638  1.508209  ... -0.443174 -0.311552  0.573735   \n",
       "5996  3.011684 -1.283930 -2.857633  ...  0.876575 -0.286531 -0.634010   \n",
       "5997  1.056368  0.960528  0.478889  ...  1.885957 -0.175634  1.035233   \n",
       "5998 -0.028932 -1.796933 -0.012895  ...  0.834684 -2.085513 -1.620368   \n",
       "5999 -0.550483 -4.618029 -1.426488  ... -0.773508 -1.684193  0.836616   \n",
       "\n",
       "           x24       x25       x26       x27       x28       x29       x30  \n",
       "0    -1.081817 -1.993413  1.533084 -1.496706  0.260757 -2.491703 -0.524571  \n",
       "1    -0.832032 -1.148192 -0.926654  0.970663 -0.673439  2.138809 -1.348287  \n",
       "2     0.697630  0.631764  0.240156  0.139782 -1.452727 -3.469927  1.129929  \n",
       "3     1.108069  0.824942  0.480005  1.255185 -1.671230  3.642342 -1.862065  \n",
       "4     0.858970  0.878317 -0.369408  0.278626 -2.291166 -0.044003  0.627598  \n",
       "...        ...       ...       ...       ...       ...       ...       ...  \n",
       "5995 -1.125316 -0.464874  0.848691 -0.583535 -1.062656 -1.964248  0.134250  \n",
       "5996  0.073769  2.967743 -1.948160  1.763242  2.833520  3.718549  0.543506  \n",
       "5997  0.932677  1.694383  0.749621 -0.364088 -0.287414  7.289223 -1.181009  \n",
       "5998 -0.560711  1.824532  1.029431 -2.108498  3.292903  6.915056  0.802267  \n",
       "5999  0.139797 -1.467997  1.362739 -0.726354 -2.612611 -3.215011 -0.048458  \n",
       "\n",
       "[6000 rows x 30 columns]"
      ]
     },
     "execution_count": 12,
     "metadata": {},
     "output_type": "execute_result"
    }
   ],
   "source": [
    "X= pd.DataFrame(X,columns=cols)\n",
    "X"
   ]
  },
  {
   "cell_type": "code",
   "execution_count": 13,
   "metadata": {},
   "outputs": [],
   "source": [
    "Y= pd.DataFrame(Y,columns=['Y'])"
   ]
  },
  {
   "cell_type": "code",
   "execution_count": 14,
   "metadata": {},
   "outputs": [
    {
     "data": {
      "text/html": [
       "<div>\n",
       "<style scoped>\n",
       "    .dataframe tbody tr th:only-of-type {\n",
       "        vertical-align: middle;\n",
       "    }\n",
       "\n",
       "    .dataframe tbody tr th {\n",
       "        vertical-align: top;\n",
       "    }\n",
       "\n",
       "    .dataframe thead th {\n",
       "        text-align: right;\n",
       "    }\n",
       "</style>\n",
       "<table border=\"1\" class=\"dataframe\">\n",
       "  <thead>\n",
       "    <tr style=\"text-align: right;\">\n",
       "      <th></th>\n",
       "      <th>Y</th>\n",
       "    </tr>\n",
       "  </thead>\n",
       "  <tbody>\n",
       "    <tr>\n",
       "      <th>0</th>\n",
       "      <td>2</td>\n",
       "    </tr>\n",
       "    <tr>\n",
       "      <th>1</th>\n",
       "      <td>2</td>\n",
       "    </tr>\n",
       "    <tr>\n",
       "      <th>2</th>\n",
       "      <td>0</td>\n",
       "    </tr>\n",
       "    <tr>\n",
       "      <th>3</th>\n",
       "      <td>0</td>\n",
       "    </tr>\n",
       "    <tr>\n",
       "      <th>4</th>\n",
       "      <td>0</td>\n",
       "    </tr>\n",
       "    <tr>\n",
       "      <th>...</th>\n",
       "      <td>...</td>\n",
       "    </tr>\n",
       "    <tr>\n",
       "      <th>5995</th>\n",
       "      <td>2</td>\n",
       "    </tr>\n",
       "    <tr>\n",
       "      <th>5996</th>\n",
       "      <td>1</td>\n",
       "    </tr>\n",
       "    <tr>\n",
       "      <th>5997</th>\n",
       "      <td>1</td>\n",
       "    </tr>\n",
       "    <tr>\n",
       "      <th>5998</th>\n",
       "      <td>0</td>\n",
       "    </tr>\n",
       "    <tr>\n",
       "      <th>5999</th>\n",
       "      <td>2</td>\n",
       "    </tr>\n",
       "  </tbody>\n",
       "</table>\n",
       "<p>6000 rows × 1 columns</p>\n",
       "</div>"
      ],
      "text/plain": [
       "      Y\n",
       "0     2\n",
       "1     2\n",
       "2     0\n",
       "3     0\n",
       "4     0\n",
       "...  ..\n",
       "5995  2\n",
       "5996  1\n",
       "5997  1\n",
       "5998  0\n",
       "5999  2\n",
       "\n",
       "[6000 rows x 1 columns]"
      ]
     },
     "execution_count": 14,
     "metadata": {},
     "output_type": "execute_result"
    }
   ],
   "source": [
    "Y"
   ]
  },
  {
   "cell_type": "code",
   "execution_count": null,
   "metadata": {},
   "outputs": [],
   "source": []
  },
  {
   "cell_type": "code",
   "execution_count": 15,
   "metadata": {},
   "outputs": [
    {
     "data": {
      "text/plain": [
       "Y\n",
       "1    2004\n",
       "2    2000\n",
       "0    1996\n",
       "Name: count, dtype: int64"
      ]
     },
     "execution_count": 15,
     "metadata": {},
     "output_type": "execute_result"
    }
   ],
   "source": [
    "Y.value_counts()"
   ]
  },
  {
   "cell_type": "markdown",
   "metadata": {},
   "source": [
    "### CREATING PREPROCESSING PIPELINE"
   ]
  },
  {
   "cell_type": "code",
   "execution_count": 16,
   "metadata": {},
   "outputs": [],
   "source": [
    "from sklearn.pipeline import Pipeline\n",
    "from sklearn.impute import SimpleImputer\n",
    "from sklearn.preprocessing import StandardScaler"
   ]
  },
  {
   "cell_type": "code",
   "execution_count": 17,
   "metadata": {},
   "outputs": [],
   "source": [
    "num_pipe=Pipeline(steps=[('impute',SimpleImputer(strategy='median')),\n",
    "                         ('scaler',StandardScaler())])"
   ]
  },
  {
   "cell_type": "code",
   "execution_count": 18,
   "metadata": {},
   "outputs": [
    {
     "data": {
      "text/plain": [
       "array([[-0.52671961,  0.27230193,  0.65623137, ...,  0.23135323,\n",
       "        -0.25895458, -0.52958856],\n",
       "       [-1.93121764,  0.87478938,  0.6049309 , ..., -0.14098636,\n",
       "         0.73357158, -1.35982943],\n",
       "       [ 0.269035  , -0.91047798,  0.80936035, ..., -0.45158456,\n",
       "        -0.46863176,  1.13801631],\n",
       "       ...,\n",
       "       [ 1.58610611, -1.95426419, -0.23936264, ...,  0.01287038,\n",
       "         1.8375362 , -1.19122665],\n",
       "       [-0.2492049 ,  1.49832908,  1.83025067, ...,  1.43986566,\n",
       "         1.75733535,  0.80775901],\n",
       "       [ 0.4942302 ,  1.49110574, -0.03998164, ..., -0.91387541,\n",
       "        -0.41399194, -0.04970478]])"
      ]
     },
     "execution_count": 18,
     "metadata": {},
     "output_type": "execute_result"
    }
   ],
   "source": [
    "x_pre=num_pipe.fit_transform(X)\n",
    "x_pre"
   ]
  },
  {
   "cell_type": "code",
   "execution_count": 19,
   "metadata": {},
   "outputs": [
    {
     "data": {
      "text/plain": [
       "array(['x1', 'x2', 'x3', 'x4', 'x5', 'x6', 'x7', 'x8', 'x9', 'x10', 'x11',\n",
       "       'x12', 'x13', 'x14', 'x15', 'x16', 'x17', 'x18', 'x19', 'x20',\n",
       "       'x21', 'x22', 'x23', 'x24', 'x25', 'x26', 'x27', 'x28', 'x29',\n",
       "       'x30'], dtype=object)"
      ]
     },
     "execution_count": 19,
     "metadata": {},
     "output_type": "execute_result"
    }
   ],
   "source": [
    "cols1=num_pipe.get_feature_names_out()\n",
    "cols1"
   ]
  },
  {
   "cell_type": "code",
   "execution_count": 20,
   "metadata": {},
   "outputs": [
    {
     "data": {
      "text/html": [
       "<div>\n",
       "<style scoped>\n",
       "    .dataframe tbody tr th:only-of-type {\n",
       "        vertical-align: middle;\n",
       "    }\n",
       "\n",
       "    .dataframe tbody tr th {\n",
       "        vertical-align: top;\n",
       "    }\n",
       "\n",
       "    .dataframe thead th {\n",
       "        text-align: right;\n",
       "    }\n",
       "</style>\n",
       "<table border=\"1\" class=\"dataframe\">\n",
       "  <thead>\n",
       "    <tr style=\"text-align: right;\">\n",
       "      <th></th>\n",
       "      <th>x1</th>\n",
       "      <th>x2</th>\n",
       "      <th>x3</th>\n",
       "      <th>x4</th>\n",
       "      <th>x5</th>\n",
       "      <th>x6</th>\n",
       "      <th>x7</th>\n",
       "      <th>x8</th>\n",
       "      <th>x9</th>\n",
       "      <th>x10</th>\n",
       "      <th>...</th>\n",
       "      <th>x21</th>\n",
       "      <th>x22</th>\n",
       "      <th>x23</th>\n",
       "      <th>x24</th>\n",
       "      <th>x25</th>\n",
       "      <th>x26</th>\n",
       "      <th>x27</th>\n",
       "      <th>x28</th>\n",
       "      <th>x29</th>\n",
       "      <th>x30</th>\n",
       "    </tr>\n",
       "  </thead>\n",
       "  <tbody>\n",
       "    <tr>\n",
       "      <th>0</th>\n",
       "      <td>-0.526720</td>\n",
       "      <td>0.272302</td>\n",
       "      <td>0.656231</td>\n",
       "      <td>-0.225921</td>\n",
       "      <td>0.751405</td>\n",
       "      <td>0.574286</td>\n",
       "      <td>1.249114</td>\n",
       "      <td>-0.570934</td>\n",
       "      <td>0.927751</td>\n",
       "      <td>1.673181</td>\n",
       "      <td>...</td>\n",
       "      <td>-1.489109</td>\n",
       "      <td>-0.340353</td>\n",
       "      <td>-0.625233</td>\n",
       "      <td>-1.075979</td>\n",
       "      <td>-0.827133</td>\n",
       "      <td>1.529565</td>\n",
       "      <td>-1.530454</td>\n",
       "      <td>0.231353</td>\n",
       "      <td>-0.258955</td>\n",
       "      <td>-0.529589</td>\n",
       "    </tr>\n",
       "    <tr>\n",
       "      <th>1</th>\n",
       "      <td>-1.931218</td>\n",
       "      <td>0.874789</td>\n",
       "      <td>0.604931</td>\n",
       "      <td>-2.081035</td>\n",
       "      <td>0.592913</td>\n",
       "      <td>0.476724</td>\n",
       "      <td>2.000062</td>\n",
       "      <td>-0.120260</td>\n",
       "      <td>0.223806</td>\n",
       "      <td>0.998535</td>\n",
       "      <td>...</td>\n",
       "      <td>-0.752340</td>\n",
       "      <td>-0.375454</td>\n",
       "      <td>-0.294869</td>\n",
       "      <td>-0.826403</td>\n",
       "      <td>-0.483039</td>\n",
       "      <td>-0.934985</td>\n",
       "      <td>0.957838</td>\n",
       "      <td>-0.140986</td>\n",
       "      <td>0.733572</td>\n",
       "      <td>-1.359829</td>\n",
       "    </tr>\n",
       "    <tr>\n",
       "      <th>2</th>\n",
       "      <td>0.269035</td>\n",
       "      <td>-0.910478</td>\n",
       "      <td>0.809360</td>\n",
       "      <td>1.016526</td>\n",
       "      <td>-1.857657</td>\n",
       "      <td>-0.987252</td>\n",
       "      <td>-1.722796</td>\n",
       "      <td>-2.236805</td>\n",
       "      <td>-1.351737</td>\n",
       "      <td>0.621340</td>\n",
       "      <td>...</td>\n",
       "      <td>0.232462</td>\n",
       "      <td>-1.133510</td>\n",
       "      <td>-0.943983</td>\n",
       "      <td>0.701980</td>\n",
       "      <td>0.241593</td>\n",
       "      <td>0.234107</td>\n",
       "      <td>0.119910</td>\n",
       "      <td>-0.451585</td>\n",
       "      <td>-0.468632</td>\n",
       "      <td>1.138016</td>\n",
       "    </tr>\n",
       "    <tr>\n",
       "      <th>3</th>\n",
       "      <td>-0.586253</td>\n",
       "      <td>0.283545</td>\n",
       "      <td>0.250910</td>\n",
       "      <td>0.652438</td>\n",
       "      <td>-0.211700</td>\n",
       "      <td>-1.104641</td>\n",
       "      <td>-1.496547</td>\n",
       "      <td>0.602964</td>\n",
       "      <td>-0.323371</td>\n",
       "      <td>0.706255</td>\n",
       "      <td>...</td>\n",
       "      <td>1.763030</td>\n",
       "      <td>0.321121</td>\n",
       "      <td>1.167266</td>\n",
       "      <td>1.112076</td>\n",
       "      <td>0.320237</td>\n",
       "      <td>0.474425</td>\n",
       "      <td>1.244772</td>\n",
       "      <td>-0.538672</td>\n",
       "      <td>1.055846</td>\n",
       "      <td>-1.877677</td>\n",
       "    </tr>\n",
       "    <tr>\n",
       "      <th>4</th>\n",
       "      <td>-0.389365</td>\n",
       "      <td>-0.398729</td>\n",
       "      <td>-2.602729</td>\n",
       "      <td>0.705930</td>\n",
       "      <td>0.430843</td>\n",
       "      <td>-0.924450</td>\n",
       "      <td>-0.293215</td>\n",
       "      <td>-0.435102</td>\n",
       "      <td>-1.028935</td>\n",
       "      <td>0.422980</td>\n",
       "      <td>...</td>\n",
       "      <td>0.717698</td>\n",
       "      <td>1.724856</td>\n",
       "      <td>-0.322215</td>\n",
       "      <td>0.863185</td>\n",
       "      <td>0.341966</td>\n",
       "      <td>-0.376649</td>\n",
       "      <td>0.259932</td>\n",
       "      <td>-0.785758</td>\n",
       "      <td>0.265697</td>\n",
       "      <td>0.631707</td>\n",
       "    </tr>\n",
       "    <tr>\n",
       "      <th>...</th>\n",
       "      <td>...</td>\n",
       "      <td>...</td>\n",
       "      <td>...</td>\n",
       "      <td>...</td>\n",
       "      <td>...</td>\n",
       "      <td>...</td>\n",
       "      <td>...</td>\n",
       "      <td>...</td>\n",
       "      <td>...</td>\n",
       "      <td>...</td>\n",
       "      <td>...</td>\n",
       "      <td>...</td>\n",
       "      <td>...</td>\n",
       "      <td>...</td>\n",
       "      <td>...</td>\n",
       "      <td>...</td>\n",
       "      <td>...</td>\n",
       "      <td>...</td>\n",
       "      <td>...</td>\n",
       "      <td>...</td>\n",
       "      <td>...</td>\n",
       "    </tr>\n",
       "    <tr>\n",
       "      <th>5995</th>\n",
       "      <td>-0.492894</td>\n",
       "      <td>0.401955</td>\n",
       "      <td>-0.272049</td>\n",
       "      <td>-1.514929</td>\n",
       "      <td>1.378480</td>\n",
       "      <td>-1.431636</td>\n",
       "      <td>0.900758</td>\n",
       "      <td>-0.055414</td>\n",
       "      <td>-0.555541</td>\n",
       "      <td>0.511672</td>\n",
       "      <td>...</td>\n",
       "      <td>-0.451408</td>\n",
       "      <td>-0.303729</td>\n",
       "      <td>0.548324</td>\n",
       "      <td>-1.119441</td>\n",
       "      <td>-0.204855</td>\n",
       "      <td>0.843833</td>\n",
       "      <td>-0.609540</td>\n",
       "      <td>-0.296115</td>\n",
       "      <td>-0.145897</td>\n",
       "      <td>0.134450</td>\n",
       "    </tr>\n",
       "    <tr>\n",
       "      <th>5996</th>\n",
       "      <td>-0.194481</td>\n",
       "      <td>0.179532</td>\n",
       "      <td>1.776192</td>\n",
       "      <td>0.394610</td>\n",
       "      <td>-0.188197</td>\n",
       "      <td>0.761528</td>\n",
       "      <td>0.807500</td>\n",
       "      <td>1.545477</td>\n",
       "      <td>-0.547269</td>\n",
       "      <td>-1.399177</td>\n",
       "      <td>...</td>\n",
       "      <td>0.869606</td>\n",
       "      <td>-0.278598</td>\n",
       "      <td>-0.651923</td>\n",
       "      <td>0.078641</td>\n",
       "      <td>1.192585</td>\n",
       "      <td>-1.958489</td>\n",
       "      <td>1.757138</td>\n",
       "      <td>1.256771</td>\n",
       "      <td>1.072181</td>\n",
       "      <td>0.546948</td>\n",
       "    </tr>\n",
       "    <tr>\n",
       "      <th>5997</th>\n",
       "      <td>1.586106</td>\n",
       "      <td>-1.954264</td>\n",
       "      <td>-0.239363</td>\n",
       "      <td>1.577404</td>\n",
       "      <td>1.820098</td>\n",
       "      <td>-1.790333</td>\n",
       "      <td>2.186171</td>\n",
       "      <td>0.728098</td>\n",
       "      <td>0.394889</td>\n",
       "      <td>0.061157</td>\n",
       "      <td>...</td>\n",
       "      <td>1.879956</td>\n",
       "      <td>-0.167211</td>\n",
       "      <td>1.006957</td>\n",
       "      <td>0.936831</td>\n",
       "      <td>0.674192</td>\n",
       "      <td>0.744569</td>\n",
       "      <td>-0.388232</td>\n",
       "      <td>0.012870</td>\n",
       "      <td>1.837536</td>\n",
       "      <td>-1.191227</td>\n",
       "    </tr>\n",
       "    <tr>\n",
       "      <th>5998</th>\n",
       "      <td>-0.249205</td>\n",
       "      <td>1.498329</td>\n",
       "      <td>1.830251</td>\n",
       "      <td>1.131158</td>\n",
       "      <td>-0.207717</td>\n",
       "      <td>-0.265529</td>\n",
       "      <td>2.078287</td>\n",
       "      <td>0.274412</td>\n",
       "      <td>-0.762612</td>\n",
       "      <td>-0.154087</td>\n",
       "      <td>...</td>\n",
       "      <td>0.827674</td>\n",
       "      <td>-2.085527</td>\n",
       "      <td>-1.632159</td>\n",
       "      <td>-0.555308</td>\n",
       "      <td>0.727176</td>\n",
       "      <td>1.024927</td>\n",
       "      <td>-2.147435</td>\n",
       "      <td>1.439866</td>\n",
       "      <td>1.757335</td>\n",
       "      <td>0.807759</td>\n",
       "    </tr>\n",
       "    <tr>\n",
       "      <th>5999</th>\n",
       "      <td>0.494230</td>\n",
       "      <td>1.491106</td>\n",
       "      <td>-0.039982</td>\n",
       "      <td>0.411921</td>\n",
       "      <td>-1.057853</td>\n",
       "      <td>1.135627</td>\n",
       "      <td>0.077095</td>\n",
       "      <td>0.056388</td>\n",
       "      <td>-1.946825</td>\n",
       "      <td>-0.772791</td>\n",
       "      <td>...</td>\n",
       "      <td>-0.782059</td>\n",
       "      <td>-1.682435</td>\n",
       "      <td>0.809573</td>\n",
       "      <td>0.144614</td>\n",
       "      <td>-0.613233</td>\n",
       "      <td>1.358886</td>\n",
       "      <td>-0.753570</td>\n",
       "      <td>-0.913875</td>\n",
       "      <td>-0.413992</td>\n",
       "      <td>-0.049705</td>\n",
       "    </tr>\n",
       "  </tbody>\n",
       "</table>\n",
       "<p>6000 rows × 30 columns</p>\n",
       "</div>"
      ],
      "text/plain": [
       "            x1        x2        x3        x4        x5        x6        x7  \\\n",
       "0    -0.526720  0.272302  0.656231 -0.225921  0.751405  0.574286  1.249114   \n",
       "1    -1.931218  0.874789  0.604931 -2.081035  0.592913  0.476724  2.000062   \n",
       "2     0.269035 -0.910478  0.809360  1.016526 -1.857657 -0.987252 -1.722796   \n",
       "3    -0.586253  0.283545  0.250910  0.652438 -0.211700 -1.104641 -1.496547   \n",
       "4    -0.389365 -0.398729 -2.602729  0.705930  0.430843 -0.924450 -0.293215   \n",
       "...        ...       ...       ...       ...       ...       ...       ...   \n",
       "5995 -0.492894  0.401955 -0.272049 -1.514929  1.378480 -1.431636  0.900758   \n",
       "5996 -0.194481  0.179532  1.776192  0.394610 -0.188197  0.761528  0.807500   \n",
       "5997  1.586106 -1.954264 -0.239363  1.577404  1.820098 -1.790333  2.186171   \n",
       "5998 -0.249205  1.498329  1.830251  1.131158 -0.207717 -0.265529  2.078287   \n",
       "5999  0.494230  1.491106 -0.039982  0.411921 -1.057853  1.135627  0.077095   \n",
       "\n",
       "            x8        x9       x10  ...       x21       x22       x23  \\\n",
       "0    -0.570934  0.927751  1.673181  ... -1.489109 -0.340353 -0.625233   \n",
       "1    -0.120260  0.223806  0.998535  ... -0.752340 -0.375454 -0.294869   \n",
       "2    -2.236805 -1.351737  0.621340  ...  0.232462 -1.133510 -0.943983   \n",
       "3     0.602964 -0.323371  0.706255  ...  1.763030  0.321121  1.167266   \n",
       "4    -0.435102 -1.028935  0.422980  ...  0.717698  1.724856 -0.322215   \n",
       "...        ...       ...       ...  ...       ...       ...       ...   \n",
       "5995 -0.055414 -0.555541  0.511672  ... -0.451408 -0.303729  0.548324   \n",
       "5996  1.545477 -0.547269 -1.399177  ...  0.869606 -0.278598 -0.651923   \n",
       "5997  0.728098  0.394889  0.061157  ...  1.879956 -0.167211  1.006957   \n",
       "5998  0.274412 -0.762612 -0.154087  ...  0.827674 -2.085527 -1.632159   \n",
       "5999  0.056388 -1.946825 -0.772791  ... -0.782059 -1.682435  0.809573   \n",
       "\n",
       "           x24       x25       x26       x27       x28       x29       x30  \n",
       "0    -1.075979 -0.827133  1.529565 -1.530454  0.231353 -0.258955 -0.529589  \n",
       "1    -0.826403 -0.483039 -0.934985  0.957838 -0.140986  0.733572 -1.359829  \n",
       "2     0.701980  0.241593  0.234107  0.119910 -0.451585 -0.468632  1.138016  \n",
       "3     1.112076  0.320237  0.474425  1.244772 -0.538672  1.055846 -1.877677  \n",
       "4     0.863185  0.341966 -0.376649  0.259932 -0.785758  0.265697  0.631707  \n",
       "...        ...       ...       ...       ...       ...       ...       ...  \n",
       "5995 -1.119441 -0.204855  0.843833 -0.609540 -0.296115 -0.145897  0.134450  \n",
       "5996  0.078641  1.192585 -1.958489  1.757138  1.256771  1.072181  0.546948  \n",
       "5997  0.936831  0.674192  0.744569 -0.388232  0.012870  1.837536 -1.191227  \n",
       "5998 -0.555308  0.727176  1.024927 -2.147435  1.439866  1.757335  0.807759  \n",
       "5999  0.144614 -0.613233  1.358886 -0.753570 -0.913875 -0.413992 -0.049705  \n",
       "\n",
       "[6000 rows x 30 columns]"
      ]
     },
     "execution_count": 20,
     "metadata": {},
     "output_type": "execute_result"
    }
   ],
   "source": [
    "X_pre=pd.DataFrame(x_pre,columns=cols1)\n",
    "X_pre"
   ]
  },
  {
   "cell_type": "markdown",
   "metadata": {},
   "source": [
    "### TRAIN TEST SPLIT"
   ]
  },
  {
   "cell_type": "code",
   "execution_count": 21,
   "metadata": {},
   "outputs": [],
   "source": [
    "from sklearn.model_selection import train_test_split"
   ]
  },
  {
   "cell_type": "code",
   "execution_count": 32,
   "metadata": {},
   "outputs": [],
   "source": [
    "xtrain,xtest,ytrain,ytest=train_test_split(X_pre,y_cat,test_size=0.2,random_state=42)"
   ]
  },
  {
   "cell_type": "code",
   "execution_count": 33,
   "metadata": {},
   "outputs": [
    {
     "data": {
      "text/plain": [
       "(4800, 30)"
      ]
     },
     "execution_count": 33,
     "metadata": {},
     "output_type": "execute_result"
    }
   ],
   "source": [
    "xtrain.shape"
   ]
  },
  {
   "cell_type": "code",
   "execution_count": 34,
   "metadata": {},
   "outputs": [
    {
     "data": {
      "text/plain": [
       "(1200, 30)"
      ]
     },
     "execution_count": 34,
     "metadata": {},
     "output_type": "execute_result"
    }
   ],
   "source": [
    "xtest.shape"
   ]
  },
  {
   "cell_type": "markdown",
   "metadata": {},
   "source": [
    "### CREATE KERAS MODEL"
   ]
  },
  {
   "cell_type": "code",
   "execution_count": 35,
   "metadata": {},
   "outputs": [],
   "source": [
    "from keras.models import Sequential\n",
    "from keras.layers import Dense,Dropout\n",
    "from keras.callbacks import EarlyStopping"
   ]
  },
  {
   "cell_type": "code",
   "execution_count": 36,
   "metadata": {},
   "outputs": [],
   "source": [
    "model=Sequential()"
   ]
  },
  {
   "cell_type": "code",
   "execution_count": 37,
   "metadata": {},
   "outputs": [],
   "source": [
    "# Hidden layer 1\n",
    "model.add(Dense(64,activation='relu',input_dim=xtrain.shape[1]))\n",
    "\n",
    "# Dropout layer 1\n",
    "model.add(Dropout(0.3))\n",
    "\n",
    "# Hidden layer 2\n",
    "model.add(Dense(32,activation='relu'))\n",
    "\n",
    "# Dropout layer 2\n",
    "model.add(Dropout(0.2))\n",
    "\n",
    "# Output layer contain number of classes\n",
    "model.add(Dense(3,activation='softmax'))"
   ]
  },
  {
   "cell_type": "markdown",
   "metadata": {},
   "source": [
    "### COMPILE THE FUNCTION"
   ]
  },
  {
   "cell_type": "code",
   "execution_count": 38,
   "metadata": {},
   "outputs": [],
   "source": [
    "model.compile(optimizer='adam',loss='categorical_crossentropy',metrics=['accuracy','AUC'])"
   ]
  },
  {
   "cell_type": "markdown",
   "metadata": {},
   "source": [
    "### CREATE CALLBACK"
   ]
  },
  {
   "cell_type": "code",
   "execution_count": 39,
   "metadata": {},
   "outputs": [],
   "source": [
    "callback= EarlyStopping(monitor='val_loss',patience=10)"
   ]
  },
  {
   "cell_type": "markdown",
   "metadata": {},
   "source": [
    "### FITTING THE MODEL"
   ]
  },
  {
   "cell_type": "code",
   "execution_count": 40,
   "metadata": {},
   "outputs": [
    {
     "name": "stdout",
     "output_type": "stream",
     "text": [
      "Epoch 1/200\n",
      "WARNING:tensorflow:From f:\\DS\\Deep learning\\repository\\venv\\Lib\\site-packages\\keras\\src\\utils\\tf_utils.py:492: The name tf.ragged.RaggedTensorValue is deprecated. Please use tf.compat.v1.ragged.RaggedTensorValue instead.\n",
      "\n",
      "WARNING:tensorflow:From f:\\DS\\Deep learning\\repository\\venv\\Lib\\site-packages\\keras\\src\\engine\\base_layer_utils.py:384: The name tf.executing_eagerly_outside_functions is deprecated. Please use tf.compat.v1.executing_eagerly_outside_functions instead.\n",
      "\n",
      "120/120 [==============================] - 4s 8ms/step - loss: 1.0528 - accuracy: 0.4591 - auc: 0.6415 - val_loss: 0.8771 - val_accuracy: 0.6417 - val_auc: 0.8207\n",
      "Epoch 2/200\n",
      "120/120 [==============================] - 0s 4ms/step - loss: 0.8604 - accuracy: 0.6044 - auc: 0.7914 - val_loss: 0.7054 - val_accuracy: 0.7167 - val_auc: 0.8839\n",
      "Epoch 3/200\n",
      "120/120 [==============================] - 0s 4ms/step - loss: 0.7545 - accuracy: 0.6685 - auc: 0.8424 - val_loss: 0.6100 - val_accuracy: 0.7500 - val_auc: 0.9091\n",
      "Epoch 4/200\n",
      "120/120 [==============================] - 0s 4ms/step - loss: 0.6880 - accuracy: 0.6987 - auc: 0.8687 - val_loss: 0.5449 - val_accuracy: 0.7812 - val_auc: 0.9270\n",
      "Epoch 5/200\n",
      "120/120 [==============================] - 0s 4ms/step - loss: 0.6399 - accuracy: 0.7188 - auc: 0.8871 - val_loss: 0.4995 - val_accuracy: 0.8042 - val_auc: 0.9420\n",
      "Epoch 6/200\n",
      "120/120 [==============================] - 0s 4ms/step - loss: 0.5889 - accuracy: 0.7500 - auc: 0.9059 - val_loss: 0.4673 - val_accuracy: 0.8188 - val_auc: 0.9469\n",
      "Epoch 7/200\n",
      "120/120 [==============================] - 0s 4ms/step - loss: 0.5507 - accuracy: 0.7714 - auc: 0.9186 - val_loss: 0.4292 - val_accuracy: 0.8344 - val_auc: 0.9550\n",
      "Epoch 8/200\n",
      "120/120 [==============================] - 0s 4ms/step - loss: 0.5114 - accuracy: 0.7852 - auc: 0.9300 - val_loss: 0.4019 - val_accuracy: 0.8396 - val_auc: 0.9600\n",
      "Epoch 9/200\n",
      "120/120 [==============================] - 0s 4ms/step - loss: 0.4920 - accuracy: 0.8010 - auc: 0.9358 - val_loss: 0.3853 - val_accuracy: 0.8510 - val_auc: 0.9628\n",
      "Epoch 10/200\n",
      "120/120 [==============================] - 1s 4ms/step - loss: 0.4513 - accuracy: 0.8172 - auc: 0.9447 - val_loss: 0.3559 - val_accuracy: 0.8562 - val_auc: 0.9681\n",
      "Epoch 11/200\n",
      "120/120 [==============================] - 0s 4ms/step - loss: 0.4416 - accuracy: 0.8255 - auc: 0.9482 - val_loss: 0.3411 - val_accuracy: 0.8708 - val_auc: 0.9701\n",
      "Epoch 12/200\n",
      "120/120 [==============================] - 0s 4ms/step - loss: 0.4185 - accuracy: 0.8331 - auc: 0.9537 - val_loss: 0.3271 - val_accuracy: 0.8792 - val_auc: 0.9725\n",
      "Epoch 13/200\n",
      "120/120 [==============================] - 0s 4ms/step - loss: 0.4036 - accuracy: 0.8458 - auc: 0.9566 - val_loss: 0.3100 - val_accuracy: 0.8844 - val_auc: 0.9752\n",
      "Epoch 14/200\n",
      "120/120 [==============================] - 0s 4ms/step - loss: 0.3711 - accuracy: 0.8503 - auc: 0.9634 - val_loss: 0.3034 - val_accuracy: 0.8854 - val_auc: 0.9755\n",
      "Epoch 15/200\n",
      "120/120 [==============================] - 0s 4ms/step - loss: 0.3810 - accuracy: 0.8555 - auc: 0.9616 - val_loss: 0.2966 - val_accuracy: 0.8771 - val_auc: 0.9765\n",
      "Epoch 16/200\n",
      "120/120 [==============================] - 0s 3ms/step - loss: 0.3603 - accuracy: 0.8664 - auc: 0.9659 - val_loss: 0.2882 - val_accuracy: 0.8854 - val_auc: 0.9775\n",
      "Epoch 17/200\n",
      "120/120 [==============================] - 0s 3ms/step - loss: 0.3522 - accuracy: 0.8638 - auc: 0.9677 - val_loss: 0.2810 - val_accuracy: 0.8875 - val_auc: 0.9787\n",
      "Epoch 18/200\n",
      "120/120 [==============================] - 0s 3ms/step - loss: 0.3391 - accuracy: 0.8747 - auc: 0.9698 - val_loss: 0.2768 - val_accuracy: 0.8865 - val_auc: 0.9790\n",
      "Epoch 19/200\n",
      "120/120 [==============================] - 0s 3ms/step - loss: 0.3241 - accuracy: 0.8755 - auc: 0.9720 - val_loss: 0.2699 - val_accuracy: 0.8938 - val_auc: 0.9801\n",
      "Epoch 20/200\n",
      "120/120 [==============================] - 0s 3ms/step - loss: 0.3274 - accuracy: 0.8766 - auc: 0.9713 - val_loss: 0.2662 - val_accuracy: 0.8958 - val_auc: 0.9805\n",
      "Epoch 21/200\n",
      "120/120 [==============================] - 0s 2ms/step - loss: 0.3146 - accuracy: 0.8865 - auc: 0.9740 - val_loss: 0.2616 - val_accuracy: 0.8958 - val_auc: 0.9812\n",
      "Epoch 22/200\n",
      "120/120 [==============================] - 0s 3ms/step - loss: 0.3146 - accuracy: 0.8820 - auc: 0.9745 - val_loss: 0.2602 - val_accuracy: 0.9000 - val_auc: 0.9812\n",
      "Epoch 23/200\n",
      "120/120 [==============================] - 0s 2ms/step - loss: 0.2939 - accuracy: 0.8906 - auc: 0.9770 - val_loss: 0.2508 - val_accuracy: 0.9010 - val_auc: 0.9824\n",
      "Epoch 24/200\n",
      "120/120 [==============================] - 0s 2ms/step - loss: 0.2815 - accuracy: 0.8977 - auc: 0.9780 - val_loss: 0.2446 - val_accuracy: 0.9083 - val_auc: 0.9832\n",
      "Epoch 25/200\n",
      "120/120 [==============================] - 0s 2ms/step - loss: 0.2899 - accuracy: 0.8951 - auc: 0.9778 - val_loss: 0.2467 - val_accuracy: 0.9042 - val_auc: 0.9828\n",
      "Epoch 26/200\n",
      "120/120 [==============================] - 0s 2ms/step - loss: 0.2837 - accuracy: 0.8984 - auc: 0.9783 - val_loss: 0.2438 - val_accuracy: 0.9062 - val_auc: 0.9830\n",
      "Epoch 27/200\n",
      "120/120 [==============================] - 0s 3ms/step - loss: 0.2715 - accuracy: 0.9018 - auc: 0.9801 - val_loss: 0.2360 - val_accuracy: 0.9115 - val_auc: 0.9843\n",
      "Epoch 28/200\n",
      "120/120 [==============================] - 0s 3ms/step - loss: 0.2712 - accuracy: 0.9068 - auc: 0.9801 - val_loss: 0.2360 - val_accuracy: 0.9052 - val_auc: 0.9838\n",
      "Epoch 29/200\n",
      "120/120 [==============================] - 0s 2ms/step - loss: 0.2658 - accuracy: 0.8971 - auc: 0.9811 - val_loss: 0.2411 - val_accuracy: 0.9083 - val_auc: 0.9834\n",
      "Epoch 30/200\n",
      "120/120 [==============================] - 0s 3ms/step - loss: 0.2702 - accuracy: 0.8984 - auc: 0.9806 - val_loss: 0.2547 - val_accuracy: 0.9083 - val_auc: 0.9818\n",
      "Epoch 31/200\n",
      "120/120 [==============================] - 0s 2ms/step - loss: 0.2664 - accuracy: 0.9078 - auc: 0.9813 - val_loss: 0.2412 - val_accuracy: 0.9135 - val_auc: 0.9832\n",
      "Epoch 32/200\n",
      "120/120 [==============================] - 0s 2ms/step - loss: 0.2553 - accuracy: 0.9062 - auc: 0.9824 - val_loss: 0.2390 - val_accuracy: 0.9104 - val_auc: 0.9836\n",
      "Epoch 33/200\n",
      "120/120 [==============================] - 0s 3ms/step - loss: 0.2461 - accuracy: 0.9115 - auc: 0.9834 - val_loss: 0.2286 - val_accuracy: 0.9187 - val_auc: 0.9848\n",
      "Epoch 34/200\n",
      "120/120 [==============================] - 0s 2ms/step - loss: 0.2550 - accuracy: 0.9081 - auc: 0.9819 - val_loss: 0.2380 - val_accuracy: 0.9156 - val_auc: 0.9837\n",
      "Epoch 35/200\n",
      "120/120 [==============================] - 0s 2ms/step - loss: 0.2532 - accuracy: 0.9034 - auc: 0.9820 - val_loss: 0.2305 - val_accuracy: 0.9167 - val_auc: 0.9845\n",
      "Epoch 36/200\n",
      "120/120 [==============================] - 0s 2ms/step - loss: 0.2515 - accuracy: 0.9068 - auc: 0.9827 - val_loss: 0.2257 - val_accuracy: 0.9198 - val_auc: 0.9851\n",
      "Epoch 37/200\n",
      "120/120 [==============================] - 0s 3ms/step - loss: 0.2420 - accuracy: 0.9161 - auc: 0.9839 - val_loss: 0.2291 - val_accuracy: 0.9187 - val_auc: 0.9848\n",
      "Epoch 38/200\n",
      "120/120 [==============================] - 0s 3ms/step - loss: 0.2286 - accuracy: 0.9180 - auc: 0.9862 - val_loss: 0.2315 - val_accuracy: 0.9146 - val_auc: 0.9847\n",
      "Epoch 39/200\n",
      "120/120 [==============================] - 0s 3ms/step - loss: 0.2357 - accuracy: 0.9167 - auc: 0.9846 - val_loss: 0.2357 - val_accuracy: 0.9125 - val_auc: 0.9837\n",
      "Epoch 40/200\n",
      "120/120 [==============================] - 0s 2ms/step - loss: 0.2268 - accuracy: 0.9232 - auc: 0.9857 - val_loss: 0.2319 - val_accuracy: 0.9208 - val_auc: 0.9842\n",
      "Epoch 41/200\n",
      "120/120 [==============================] - 0s 2ms/step - loss: 0.2326 - accuracy: 0.9182 - auc: 0.9857 - val_loss: 0.2255 - val_accuracy: 0.9219 - val_auc: 0.9847\n",
      "Epoch 42/200\n",
      "120/120 [==============================] - 0s 2ms/step - loss: 0.2253 - accuracy: 0.9203 - auc: 0.9863 - val_loss: 0.2266 - val_accuracy: 0.9219 - val_auc: 0.9851\n",
      "Epoch 43/200\n",
      "120/120 [==============================] - 0s 3ms/step - loss: 0.2234 - accuracy: 0.9193 - auc: 0.9865 - val_loss: 0.2329 - val_accuracy: 0.9125 - val_auc: 0.9842\n",
      "Epoch 44/200\n",
      "120/120 [==============================] - 0s 3ms/step - loss: 0.2290 - accuracy: 0.9195 - auc: 0.9854 - val_loss: 0.2243 - val_accuracy: 0.9198 - val_auc: 0.9853\n",
      "Epoch 45/200\n",
      "120/120 [==============================] - 0s 2ms/step - loss: 0.2179 - accuracy: 0.9240 - auc: 0.9864 - val_loss: 0.2252 - val_accuracy: 0.9271 - val_auc: 0.9847\n",
      "Epoch 46/200\n",
      "120/120 [==============================] - 0s 2ms/step - loss: 0.2241 - accuracy: 0.9268 - auc: 0.9860 - val_loss: 0.2253 - val_accuracy: 0.9187 - val_auc: 0.9850\n",
      "Epoch 47/200\n",
      "120/120 [==============================] - 0s 2ms/step - loss: 0.2131 - accuracy: 0.9271 - auc: 0.9870 - val_loss: 0.2248 - val_accuracy: 0.9198 - val_auc: 0.9853\n",
      "Epoch 48/200\n",
      "120/120 [==============================] - 0s 3ms/step - loss: 0.2218 - accuracy: 0.9242 - auc: 0.9861 - val_loss: 0.2244 - val_accuracy: 0.9271 - val_auc: 0.9849\n",
      "Epoch 49/200\n",
      "120/120 [==============================] - 0s 2ms/step - loss: 0.2164 - accuracy: 0.9232 - auc: 0.9867 - val_loss: 0.2279 - val_accuracy: 0.9167 - val_auc: 0.9851\n",
      "Epoch 50/200\n",
      "120/120 [==============================] - 0s 2ms/step - loss: 0.2134 - accuracy: 0.9263 - auc: 0.9871 - val_loss: 0.2216 - val_accuracy: 0.9219 - val_auc: 0.9859\n",
      "Epoch 51/200\n",
      "120/120 [==============================] - 0s 2ms/step - loss: 0.2106 - accuracy: 0.9214 - auc: 0.9870 - val_loss: 0.2205 - val_accuracy: 0.9281 - val_auc: 0.9856\n",
      "Epoch 52/200\n",
      "120/120 [==============================] - 0s 2ms/step - loss: 0.2051 - accuracy: 0.9276 - auc: 0.9882 - val_loss: 0.2211 - val_accuracy: 0.9240 - val_auc: 0.9857\n",
      "Epoch 53/200\n",
      "120/120 [==============================] - 0s 2ms/step - loss: 0.2221 - accuracy: 0.9227 - auc: 0.9864 - val_loss: 0.2163 - val_accuracy: 0.9240 - val_auc: 0.9860\n",
      "Epoch 54/200\n",
      "120/120 [==============================] - 0s 2ms/step - loss: 0.2092 - accuracy: 0.9281 - auc: 0.9876 - val_loss: 0.2194 - val_accuracy: 0.9260 - val_auc: 0.9857\n",
      "Epoch 55/200\n",
      "120/120 [==============================] - 0s 2ms/step - loss: 0.2041 - accuracy: 0.9292 - auc: 0.9882 - val_loss: 0.2184 - val_accuracy: 0.9250 - val_auc: 0.9858\n",
      "Epoch 56/200\n",
      "120/120 [==============================] - 0s 3ms/step - loss: 0.2041 - accuracy: 0.9268 - auc: 0.9875 - val_loss: 0.2140 - val_accuracy: 0.9229 - val_auc: 0.9858\n",
      "Epoch 57/200\n",
      "120/120 [==============================] - 0s 2ms/step - loss: 0.2014 - accuracy: 0.9299 - auc: 0.9882 - val_loss: 0.2228 - val_accuracy: 0.9250 - val_auc: 0.9851\n",
      "Epoch 58/200\n",
      "120/120 [==============================] - 0s 3ms/step - loss: 0.1968 - accuracy: 0.9320 - auc: 0.9888 - val_loss: 0.2234 - val_accuracy: 0.9219 - val_auc: 0.9848\n",
      "Epoch 59/200\n",
      "120/120 [==============================] - 0s 2ms/step - loss: 0.1991 - accuracy: 0.9292 - auc: 0.9881 - val_loss: 0.2162 - val_accuracy: 0.9302 - val_auc: 0.9861\n",
      "Epoch 60/200\n",
      "120/120 [==============================] - 0s 2ms/step - loss: 0.1946 - accuracy: 0.9310 - auc: 0.9883 - val_loss: 0.2134 - val_accuracy: 0.9333 - val_auc: 0.9861\n",
      "Epoch 61/200\n",
      "120/120 [==============================] - 0s 2ms/step - loss: 0.1953 - accuracy: 0.9336 - auc: 0.9889 - val_loss: 0.2178 - val_accuracy: 0.9302 - val_auc: 0.9856\n",
      "Epoch 62/200\n",
      "120/120 [==============================] - 0s 2ms/step - loss: 0.1910 - accuracy: 0.9349 - auc: 0.9891 - val_loss: 0.2158 - val_accuracy: 0.9344 - val_auc: 0.9859\n",
      "Epoch 63/200\n",
      "120/120 [==============================] - 0s 2ms/step - loss: 0.1816 - accuracy: 0.9352 - auc: 0.9903 - val_loss: 0.2192 - val_accuracy: 0.9333 - val_auc: 0.9858\n",
      "Epoch 64/200\n",
      "120/120 [==============================] - 0s 2ms/step - loss: 0.1857 - accuracy: 0.9344 - auc: 0.9902 - val_loss: 0.2209 - val_accuracy: 0.9292 - val_auc: 0.9859\n",
      "Epoch 65/200\n",
      "120/120 [==============================] - 0s 2ms/step - loss: 0.1841 - accuracy: 0.9357 - auc: 0.9900 - val_loss: 0.2206 - val_accuracy: 0.9271 - val_auc: 0.9860\n",
      "Epoch 66/200\n",
      "120/120 [==============================] - 0s 2ms/step - loss: 0.1778 - accuracy: 0.9422 - auc: 0.9910 - val_loss: 0.2192 - val_accuracy: 0.9292 - val_auc: 0.9858\n",
      "Epoch 67/200\n",
      "120/120 [==============================] - 0s 2ms/step - loss: 0.1765 - accuracy: 0.9393 - auc: 0.9907 - val_loss: 0.2242 - val_accuracy: 0.9271 - val_auc: 0.9856\n",
      "Epoch 68/200\n",
      "120/120 [==============================] - 0s 2ms/step - loss: 0.1682 - accuracy: 0.9424 - auc: 0.9913 - val_loss: 0.2196 - val_accuracy: 0.9302 - val_auc: 0.9858\n",
      "Epoch 69/200\n",
      "120/120 [==============================] - 0s 2ms/step - loss: 0.1848 - accuracy: 0.9409 - auc: 0.9896 - val_loss: 0.2145 - val_accuracy: 0.9292 - val_auc: 0.9862\n",
      "Epoch 70/200\n",
      "120/120 [==============================] - 0s 3ms/step - loss: 0.1819 - accuracy: 0.9331 - auc: 0.9904 - val_loss: 0.2109 - val_accuracy: 0.9333 - val_auc: 0.9866\n",
      "Epoch 71/200\n",
      "120/120 [==============================] - 0s 3ms/step - loss: 0.1803 - accuracy: 0.9393 - auc: 0.9906 - val_loss: 0.2146 - val_accuracy: 0.9312 - val_auc: 0.9859\n",
      "Epoch 72/200\n",
      "120/120 [==============================] - 0s 2ms/step - loss: 0.1593 - accuracy: 0.9458 - auc: 0.9924 - val_loss: 0.2182 - val_accuracy: 0.9292 - val_auc: 0.9859\n",
      "Epoch 73/200\n",
      "120/120 [==============================] - 0s 3ms/step - loss: 0.1786 - accuracy: 0.9409 - auc: 0.9900 - val_loss: 0.2142 - val_accuracy: 0.9365 - val_auc: 0.9855\n",
      "Epoch 74/200\n",
      "120/120 [==============================] - 0s 3ms/step - loss: 0.1810 - accuracy: 0.9385 - auc: 0.9904 - val_loss: 0.2192 - val_accuracy: 0.9344 - val_auc: 0.9856\n",
      "Epoch 75/200\n",
      "120/120 [==============================] - 0s 3ms/step - loss: 0.1721 - accuracy: 0.9424 - auc: 0.9906 - val_loss: 0.2216 - val_accuracy: 0.9312 - val_auc: 0.9850\n",
      "Epoch 76/200\n",
      "120/120 [==============================] - 0s 3ms/step - loss: 0.1696 - accuracy: 0.9424 - auc: 0.9915 - val_loss: 0.2189 - val_accuracy: 0.9365 - val_auc: 0.9858\n",
      "Epoch 77/200\n",
      "120/120 [==============================] - 0s 3ms/step - loss: 0.1699 - accuracy: 0.9448 - auc: 0.9911 - val_loss: 0.2181 - val_accuracy: 0.9302 - val_auc: 0.9858\n",
      "Epoch 78/200\n",
      "120/120 [==============================] - 0s 3ms/step - loss: 0.1602 - accuracy: 0.9445 - auc: 0.9922 - val_loss: 0.2240 - val_accuracy: 0.9365 - val_auc: 0.9855\n",
      "Epoch 79/200\n",
      "120/120 [==============================] - 0s 3ms/step - loss: 0.1673 - accuracy: 0.9406 - auc: 0.9914 - val_loss: 0.2305 - val_accuracy: 0.9375 - val_auc: 0.9841\n",
      "Epoch 80/200\n",
      "120/120 [==============================] - 0s 3ms/step - loss: 0.1695 - accuracy: 0.9422 - auc: 0.9916 - val_loss: 0.2258 - val_accuracy: 0.9323 - val_auc: 0.9848\n"
     ]
    }
   ],
   "source": [
    "hist= model.fit(xtrain\n",
    "                ,ytrain,\n",
    "                validation_split=0.2\n",
    "                ,epochs=200\n",
    "                ,callbacks=[callback])"
   ]
  },
  {
   "cell_type": "markdown",
   "metadata": {},
   "source": [
    "### VISUALIZING THE LEARNING CURVE"
   ]
  },
  {
   "cell_type": "code",
   "execution_count": 41,
   "metadata": {},
   "outputs": [],
   "source": [
    "import matplotlib.pyplot as plt"
   ]
  },
  {
   "cell_type": "code",
   "execution_count": 43,
   "metadata": {},
   "outputs": [
    {
     "data": {
      "image/png": "[encoded data removed]",
      "text/plain": [
       "<Figure size 1600x800 with 1 Axes>"
      ]
     },
     "metadata": {},
     "output_type": "display_data"
    }
   ],
   "source": [
    "plt.figure(figsize=(16,8))\n",
    "plt.plot(hist.history['loss'],label='Train CCE')\n",
    "plt.plot(hist.history['val_loss'],label='test CCE')\n",
    "plt.xlabel('epochs')\n",
    "plt.ylabel('Categorical cross entropy')\n",
    "plt.title('learning curve')\n",
    "plt.legend()\n",
    "plt.show()"
   ]
  },
  {
   "cell_type": "markdown",
   "metadata": {},
   "source": [
    "### EVALUATE MODEL IN TRAIN AND TEST"
   ]
  },
  {
   "cell_type": "code",
   "execution_count": 44,
   "metadata": {},
   "outputs": [
    {
     "name": "stdout",
     "output_type": "stream",
     "text": [
      "150/150 [==============================] - 1s 5ms/step - loss: 0.1009 - accuracy: 0.9752 - auc: 0.9957\n"
     ]
    },
    {
     "data": {
      "text/plain": [
       "[0.1008998230099678, 0.9752083420753479, 0.9957106709480286]"
      ]
     },
     "execution_count": 44,
     "metadata": {},
     "output_type": "execute_result"
    }
   ],
   "source": [
    "model.evaluate(xtrain,ytrain)"
   ]
  },
  {
   "cell_type": "code",
   "execution_count": 45,
   "metadata": {},
   "outputs": [
    {
     "name": "stdout",
     "output_type": "stream",
     "text": [
      "38/38 [==============================] - 1s 3ms/step - loss: 0.2278 - accuracy: 0.9317 - auc: 0.9861\n"
     ]
    },
    {
     "data": {
      "text/plain": [
       "[0.22783797979354858, 0.9316666722297668, 0.9861217737197876]"
      ]
     },
     "execution_count": 45,
     "metadata": {},
     "output_type": "execute_result"
    }
   ],
   "source": [
    "model.evaluate(xtest,ytest)"
   ]
  },
  {
   "cell_type": "markdown",
   "metadata": {},
   "source": [
    "### PREDICTING RESULTS"
   ]
  },
  {
   "cell_type": "code",
   "execution_count": 49,
   "metadata": {},
   "outputs": [
    {
     "name": "stdout",
     "output_type": "stream",
     "text": [
      "150/150 [==============================] - 1s 3ms/step\n",
      "38/38 [==============================] - 0s 4ms/step\n"
     ]
    }
   ],
   "source": [
    "yprob_tr=model.predict(xtrain)\n",
    "yprob_ts=model.predict(xtest)"
   ]
  },
  {
   "cell_type": "code",
   "execution_count": 50,
   "metadata": {},
   "outputs": [
    {
     "data": {
      "text/plain": [
       "array([[7.6001766e-03, 9.9105901e-01, 1.3407844e-03],\n",
       "       [6.2501018e-09, 1.1089147e-06, 9.9999893e-01],\n",
       "       [7.9303998e-01, 7.4033174e-05, 2.0688595e-01],\n",
       "       ...,\n",
       "       [1.5449297e-05, 1.3652803e-04, 9.9984801e-01],\n",
       "       [9.9886346e-01, 4.6462225e-04, 6.7188131e-04],\n",
       "       [9.9754506e-01, 1.8592301e-06, 2.4529777e-03]], dtype=float32)"
      ]
     },
     "execution_count": 50,
     "metadata": {},
     "output_type": "execute_result"
    }
   ],
   "source": [
    "yprob_tr"
   ]
  },
  {
   "cell_type": "code",
   "execution_count": 51,
   "metadata": {},
   "outputs": [
    {
     "data": {
      "text/plain": [
       "array([[9.3137997e-01, 6.8191037e-02, 4.2897361e-04],\n",
       "       [9.8412238e-02, 3.9578259e-02, 8.6200953e-01],\n",
       "       [1.6344832e-01, 2.1728969e-03, 8.3437878e-01],\n",
       "       ...,\n",
       "       [3.1610653e-02, 3.1527195e-02, 9.3686211e-01],\n",
       "       [2.9052648e-01, 7.0925492e-01, 2.1860031e-04],\n",
       "       [9.9323118e-01, 1.4328803e-03, 5.3358804e-03]], dtype=float32)"
      ]
     },
     "execution_count": 51,
     "metadata": {},
     "output_type": "execute_result"
    }
   ],
   "source": [
    "yprob_ts"
   ]
  },
  {
   "cell_type": "markdown",
   "metadata": {},
   "source": [
    "### GETTING ORIGINAL CLASS"
   ]
  },
  {
   "cell_type": "code",
   "execution_count": 52,
   "metadata": {},
   "outputs": [],
   "source": [
    "ytest_act=np.argmax(ytest,axis=-1)\n",
    "ytrain_act=np.argmax(ytrain,axis=-1)"
   ]
  },
  {
   "cell_type": "code",
   "execution_count": 53,
   "metadata": {},
   "outputs": [
    {
     "data": {
      "text/plain": [
       "array([0, 2, 2, ..., 2, 0, 0], dtype=int64)"
      ]
     },
     "execution_count": 53,
     "metadata": {},
     "output_type": "execute_result"
    }
   ],
   "source": [
    "ytest_act"
   ]
  },
  {
   "cell_type": "code",
   "execution_count": 54,
   "metadata": {},
   "outputs": [
    {
     "data": {
      "text/plain": [
       "array([1, 2, 0, ..., 2, 0, 2], dtype=int64)"
      ]
     },
     "execution_count": 54,
     "metadata": {},
     "output_type": "execute_result"
    }
   ],
   "source": [
    "ytrain_act"
   ]
  },
  {
   "cell_type": "markdown",
   "metadata": {},
   "source": [
    "### PREDICTIONS FOR THE VALUES"
   ]
  },
  {
   "cell_type": "code",
   "execution_count": 55,
   "metadata": {},
   "outputs": [],
   "source": [
    "ypred_tr= np.argmax(yprob_tr,axis=-1)\n",
    "ypred_ts=np.argmax(yprob_ts,axis=-1\n",
    ")"
   ]
  },
  {
   "cell_type": "code",
   "execution_count": 56,
   "metadata": {},
   "outputs": [
    {
     "data": {
      "text/plain": [
       "array([1, 2, 0, ..., 2, 0, 0], dtype=int64)"
      ]
     },
     "execution_count": 56,
     "metadata": {},
     "output_type": "execute_result"
    }
   ],
   "source": [
    "ypred_tr"
   ]
  },
  {
   "cell_type": "code",
   "execution_count": 57,
   "metadata": {},
   "outputs": [
    {
     "data": {
      "text/plain": [
       "array([0, 2, 2, ..., 2, 1, 0], dtype=int64)"
      ]
     },
     "execution_count": 57,
     "metadata": {},
     "output_type": "execute_result"
    }
   ],
   "source": [
    "ypred_ts"
   ]
  },
  {
   "cell_type": "markdown",
   "metadata": {},
   "source": [
    "### CREATE CONFUSION MATRIX FOR TEST RESULTS"
   ]
  },
  {
   "cell_type": "code",
   "execution_count": 58,
   "metadata": {},
   "outputs": [],
   "source": [
    "from sklearn.metrics import confusion_matrix,ConfusionMatrixDisplay\n"
   ]
  },
  {
   "cell_type": "code",
   "execution_count": 61,
   "metadata": {},
   "outputs": [
    {
     "data": {
      "text/plain": [
       "<sklearn.metrics._plot.confusion_matrix.ConfusionMatrixDisplay at 0x28532e38210>"
      ]
     },
     "execution_count": 61,
     "metadata": {},
     "output_type": "execute_result"
    },
    {
     "data": {
      "image/png": "[encoded data removed]",
      "text/plain": [
       "<Figure size 640x480 with 2 Axes>"
      ]
     },
     "metadata": {},
     "output_type": "display_data"
    }
   ],
   "source": [
    "cf=confusion_matrix(ytest_act,ypred_ts)\n",
    "cfd=ConfusionMatrixDisplay(cf)\n",
    "cfd.plot()"
   ]
  },
  {
   "cell_type": "markdown",
   "metadata": {},
   "source": [
    "### CLASSIFICATION REPORT"
   ]
  },
  {
   "cell_type": "code",
   "execution_count": 62,
   "metadata": {},
   "outputs": [],
   "source": [
    "from sklearn.metrics import classification_report"
   ]
  },
  {
   "cell_type": "code",
   "execution_count": 63,
   "metadata": {},
   "outputs": [
    {
     "name": "stdout",
     "output_type": "stream",
     "text": [
      "              precision    recall  f1-score   support\n",
      "\n",
      "           0       0.92      0.92      0.92       405\n",
      "           1       0.94      0.95      0.94       403\n",
      "           2       0.94      0.93      0.93       392\n",
      "\n",
      "    accuracy                           0.93      1200\n",
      "   macro avg       0.93      0.93      0.93      1200\n",
      "weighted avg       0.93      0.93      0.93      1200\n",
      "\n"
     ]
    }
   ],
   "source": [
    "print(classification_report(ytest_act,ypred_ts))"
   ]
  },
  {
   "cell_type": "markdown",
   "metadata": {},
   "source": [
    "### SAVE THE MODEL FOR FUTURE USE"
   ]
  },
  {
   "cell_type": "code",
   "execution_count": 64,
   "metadata": {},
   "outputs": [],
   "source": [
    "model.save('Multiclass.keras')"
   ]
  },
  {
   "cell_type": "markdown",
   "metadata": {},
   "source": [
    "### LOADING THE MODEL"
   ]
  },
  {
   "cell_type": "code",
   "execution_count": 65,
   "metadata": {},
   "outputs": [],
   "source": [
    "from keras.models import load_model"
   ]
  },
  {
   "cell_type": "code",
   "execution_count": 66,
   "metadata": {},
   "outputs": [],
   "source": [
    "nn=load_model('Multiclass.keras')"
   ]
  },
  {
   "cell_type": "code",
   "execution_count": 67,
   "metadata": {},
   "outputs": [
    {
     "name": "stdout",
     "output_type": "stream",
     "text": [
      "Model: \"sequential_1\"\n",
      "_________________________________________________________________\n",
      " Layer (type)                Output Shape              Param #   \n",
      "=================================================================\n",
      " dense_3 (Dense)             (None, 64)                1984      \n",
      "                                                                 \n",
      " dropout_2 (Dropout)         (None, 64)                0         \n",
      "                                                                 \n",
      " dense_4 (Dense)             (None, 32)                2080      \n",
      "                                                                 \n",
      " dropout_3 (Dropout)         (None, 32)                0         \n",
      "                                                                 \n",
      " dense_5 (Dense)             (None, 3)                 99        \n",
      "                                                                 \n",
      "=================================================================\n",
      "Total params: 4163 (16.26 KB)\n",
      "Trainable params: 4163 (16.26 KB)\n",
      "Non-trainable params: 0 (0.00 Byte)\n",
      "_________________________________________________________________\n"
     ]
    }
   ],
   "source": [
    "nn.summary()"
   ]
  }
 ],
 "metadata": {
  "kernelspec": {
   "display_name": "venv",
   "language": "python",
   "name": "python3"
  },
  "language_info": {
   "codemirror_mode": {
    "name": "ipython",
    "version": 3
   },
   "file_extension": ".py",
   "mimetype": "text/x-python",
   "name": "python",
   "nbconvert_exporter": "python",
   "pygments_lexer": "ipython3",
   "version": "3.11.6"
  }
 },
 "nbformat": 4,
 "nbformat_minor": 2
}
